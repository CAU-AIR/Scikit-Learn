{
 "cells": [
  {
   "cell_type": "code",
   "execution_count": 8,
   "metadata": {},
   "outputs": [
    {
     "name": "stdout",
     "output_type": "stream",
     "text": [
      "Requirement already satisfied: pooch in /opt/conda/lib/python3.10/site-packages (1.8.0)\n",
      "Requirement already satisfied: platformdirs>=2.5.0 in /opt/conda/lib/python3.10/site-packages (from pooch) (4.1.0)\n",
      "Requirement already satisfied: packaging>=20.0 in /opt/conda/lib/python3.10/site-packages (from pooch) (23.1)\n",
      "Requirement already satisfied: requests>=2.19.0 in /opt/conda/lib/python3.10/site-packages (from pooch) (2.28.1)\n",
      "Requirement already satisfied: charset-normalizer<3,>=2 in /opt/conda/lib/python3.10/site-packages (from requests>=2.19.0->pooch) (2.0.4)\n",
      "Requirement already satisfied: idna<4,>=2.5 in /opt/conda/lib/python3.10/site-packages (from requests>=2.19.0->pooch) (2.10)\n",
      "Requirement already satisfied: urllib3<1.27,>=1.21.1 in /opt/conda/lib/python3.10/site-packages (from requests>=2.19.0->pooch) (1.26.13)\n",
      "Requirement already satisfied: certifi>=2017.4.17 in /opt/conda/lib/python3.10/site-packages (from requests>=2.19.0->pooch) (2022.12.7)\n",
      "\u001b[33mWARNING: Running pip as the 'root' user can result in broken permissions and conflicting behaviour with the system package manager. It is recommended to use a virtual environment instead: https://pip.pypa.io/warnings/venv\u001b[0m\u001b[33m\n",
      "\u001b[0m"
     ]
    }
   ],
   "source": [
    "!pip install pooch"
   ]
  },
  {
   "cell_type": "code",
   "execution_count": 9,
   "metadata": {},
   "outputs": [
    {
     "ename": "ImportError",
     "evalue": "Missing optional dependency 'pooch' required for scipy.datasets module. Please use pip or conda to install 'pooch'.",
     "output_type": "error",
     "traceback": [
      "\u001b[0;31m---------------------------------------------------------------------------\u001b[0m",
      "\u001b[0;31mImportError\u001b[0m                               Traceback (most recent call last)",
      "Cell \u001b[0;32mIn[9], line 8\u001b[0m\n\u001b[1;32m      5\u001b[0m \u001b[38;5;28;01mexcept\u001b[39;00m \u001b[38;5;167;01mImportError\u001b[39;00m:\n\u001b[1;32m      6\u001b[0m     \u001b[38;5;28;01mfrom\u001b[39;00m \u001b[38;5;21;01mscipy\u001b[39;00m\u001b[38;5;21;01m.\u001b[39;00m\u001b[38;5;21;01mmisc\u001b[39;00m \u001b[38;5;28;01mimport\u001b[39;00m face\n\u001b[0;32m----> 8\u001b[0m raccoon_face \u001b[38;5;241m=\u001b[39m \u001b[43mface\u001b[49m\u001b[43m(\u001b[49m\u001b[43mgray\u001b[49m\u001b[38;5;241;43m=\u001b[39;49m\u001b[38;5;28;43;01mTrue\u001b[39;49;00m\u001b[43m)\u001b[49m\n\u001b[1;32m     10\u001b[0m \u001b[38;5;66;03m# Convert from uint8 representation with values between 0 and 255 to\u001b[39;00m\n\u001b[1;32m     11\u001b[0m \u001b[38;5;66;03m# a floating point representation with values between 0 and 1.\u001b[39;00m\n\u001b[1;32m     12\u001b[0m raccoon_face \u001b[38;5;241m=\u001b[39m raccoon_face \u001b[38;5;241m/\u001b[39m \u001b[38;5;241m255.0\u001b[39m\n",
      "File \u001b[0;32m/opt/conda/lib/python3.10/site-packages/scipy/datasets/_fetchers.py:211\u001b[0m, in \u001b[0;36mface\u001b[0;34m(gray)\u001b[0m\n\u001b[1;32m    178\u001b[0m \u001b[38;5;250m\u001b[39m\u001b[38;5;124;03m\"\"\"\u001b[39;00m\n\u001b[1;32m    179\u001b[0m \u001b[38;5;124;03mGet a 1024 x 768, color image of a raccoon face.\u001b[39;00m\n\u001b[1;32m    180\u001b[0m \n\u001b[0;32m   (...)\u001b[0m\n\u001b[1;32m    208\u001b[0m \n\u001b[1;32m    209\u001b[0m \u001b[38;5;124;03m\"\"\"\u001b[39;00m\n\u001b[1;32m    210\u001b[0m \u001b[38;5;28;01mimport\u001b[39;00m \u001b[38;5;21;01mbz2\u001b[39;00m\n\u001b[0;32m--> 211\u001b[0m fname \u001b[38;5;241m=\u001b[39m \u001b[43mfetch_data\u001b[49m\u001b[43m(\u001b[49m\u001b[38;5;124;43m\"\u001b[39;49m\u001b[38;5;124;43mface.dat\u001b[39;49m\u001b[38;5;124;43m\"\u001b[39;49m\u001b[43m)\u001b[49m\n\u001b[1;32m    212\u001b[0m \u001b[38;5;28;01mwith\u001b[39;00m \u001b[38;5;28mopen\u001b[39m(fname, \u001b[38;5;124m'\u001b[39m\u001b[38;5;124mrb\u001b[39m\u001b[38;5;124m'\u001b[39m) \u001b[38;5;28;01mas\u001b[39;00m f:\n\u001b[1;32m    213\u001b[0m     rawdata \u001b[38;5;241m=\u001b[39m f\u001b[38;5;241m.\u001b[39mread()\n",
      "File \u001b[0;32m/opt/conda/lib/python3.10/site-packages/scipy/datasets/_fetchers.py:27\u001b[0m, in \u001b[0;36mfetch_data\u001b[0;34m(dataset_name, data_fetcher)\u001b[0m\n\u001b[1;32m     25\u001b[0m \u001b[38;5;28;01mdef\u001b[39;00m \u001b[38;5;21mfetch_data\u001b[39m(dataset_name, data_fetcher\u001b[38;5;241m=\u001b[39mdata_fetcher):\n\u001b[1;32m     26\u001b[0m     \u001b[38;5;28;01mif\u001b[39;00m data_fetcher \u001b[38;5;129;01mis\u001b[39;00m \u001b[38;5;28;01mNone\u001b[39;00m:\n\u001b[0;32m---> 27\u001b[0m         \u001b[38;5;28;01mraise\u001b[39;00m \u001b[38;5;167;01mImportError\u001b[39;00m(\u001b[38;5;124m\"\u001b[39m\u001b[38;5;124mMissing optional dependency \u001b[39m\u001b[38;5;124m'\u001b[39m\u001b[38;5;124mpooch\u001b[39m\u001b[38;5;124m'\u001b[39m\u001b[38;5;124m required \u001b[39m\u001b[38;5;124m\"\u001b[39m\n\u001b[1;32m     28\u001b[0m                           \u001b[38;5;124m\"\u001b[39m\u001b[38;5;124mfor scipy.datasets module. Please use pip or \u001b[39m\u001b[38;5;124m\"\u001b[39m\n\u001b[1;32m     29\u001b[0m                           \u001b[38;5;124m\"\u001b[39m\u001b[38;5;124mconda to install \u001b[39m\u001b[38;5;124m'\u001b[39m\u001b[38;5;124mpooch\u001b[39m\u001b[38;5;124m'\u001b[39m\u001b[38;5;124m.\u001b[39m\u001b[38;5;124m\"\u001b[39m)\n\u001b[1;32m     30\u001b[0m     \u001b[38;5;66;03m# The \"fetch\" method returns the full path to the downloaded data file.\u001b[39;00m\n\u001b[1;32m     31\u001b[0m     \u001b[38;5;28;01mreturn\u001b[39;00m data_fetcher\u001b[38;5;241m.\u001b[39mfetch(dataset_name)\n",
      "\u001b[0;31mImportError\u001b[0m: Missing optional dependency 'pooch' required for scipy.datasets module. Please use pip or conda to install 'pooch'."
     ]
    }
   ],
   "source": [
    "import numpy as np\n",
    "\n",
    "try:  # Scipy >= 1.10\n",
    "    from scipy.datasets import face\n",
    "except ImportError:\n",
    "    from scipy.misc import face\n",
    "\n",
    "raccoon_face = face(gray=True)\n",
    "\n",
    "# Convert from uint8 representation with values between 0 and 255 to\n",
    "# a floating point representation with values between 0 and 1.\n",
    "raccoon_face = raccoon_face / 255.0\n",
    "\n",
    "# downsample for higher speed\n",
    "raccoon_face = (\n",
    "    raccoon_face[::4, ::4]\n",
    "    + raccoon_face[1::4, ::4]\n",
    "    + raccoon_face[::4, 1::4]\n",
    "    + raccoon_face[1::4, 1::4]\n",
    ")\n",
    "raccoon_face /= 4.0\n",
    "height, width = raccoon_face.shape\n",
    "\n",
    "# Distort the right half of the image\n",
    "print(\"Distorting image...\")\n",
    "distorted = raccoon_face.copy()\n",
    "distorted[:, width // 2 :] += 0.075 * np.random.randn(height, width // 2)"
   ]
  }
 ],
 "metadata": {
  "kernelspec": {
   "display_name": "base",
   "language": "python",
   "name": "python3"
  },
  "language_info": {
   "codemirror_mode": {
    "name": "ipython",
    "version": 3
   },
   "file_extension": ".py",
   "mimetype": "text/x-python",
   "name": "python",
   "nbconvert_exporter": "python",
   "pygments_lexer": "ipython3",
   "version": "3.10.8"
  }
 },
 "nbformat": 4,
 "nbformat_minor": 2
}
