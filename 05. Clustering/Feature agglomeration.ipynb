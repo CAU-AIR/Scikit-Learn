{
 "cells": [
  {
   "cell_type": "markdown",
   "metadata": {},
   "source": [
    "# Feature agglomeration"
   ]
  },
  {
   "cell_type": "code",
   "execution_count": 1,
   "metadata": {},
   "outputs": [
    {
     "data": {
      "image/png": "[encoded data removed]",
      "text/plain": [
       "<Figure size 400x350 with 9 Axes>"
      ]
     },
     "metadata": {},
     "output_type": "display_data"
    }
   ],
   "source": [
    "import matplotlib.pyplot as plt\n",
    "import numpy as np\n",
    "\n",
    "from sklearn import cluster, datasets\n",
    "from sklearn.feature_extraction.image import grid_to_graph\n",
    "\n",
    "digits = datasets.load_digits()\n",
    "images = digits.images\n",
    "X = np.reshape(images, (len(images), -1))   # 이미지를 2차원 배열로 변환한다.\n",
    "connectivity = grid_to_graph(*images[0].shape)  # 이미지의 모양을 기반으로 연결 그래프를 생성한다. 연결 그래프는 특성간의 연결을 지정한다. 연결 그래프는 특성 병합 중에 공간 정보를 보존하는 데 중요하다.\n",
    "\n",
    "agglo = cluster.FeatureAgglomeration(connectivity=connectivity, n_clusters=32)  # 연결 그래프와 32개의 클러스터로 구성된 특정 병합 모델을 생성한다.\n",
    "\n",
    "agglo.fit(X)\n",
    "X_reduced = agglo.transform(X)  # 학습된 특성 병합을 사용하여 데이터를 32개의 특성으로 변환한다.\n",
    "\n",
    "X_restored = agglo.inverse_transform(X_reduced) # 감소된 표현에서 원본 데이터를 복원한다.\n",
    "images_restored = np.reshape(X_restored, images.shape)  # 역변환된 데이터를 원래 이미지 형식으로 변환한다.\n",
    "plt.figure(1, figsize=(4, 3.5))\n",
    "plt.clf()\n",
    "plt.subplots_adjust(left=0.01, right=0.99, bottom=0.01, top=0.91)\n",
    "for i in range(4):\n",
    "    plt.subplot(3, 4, i + 1)\n",
    "    plt.imshow(images[i], cmap=plt.cm.gray, vmax=16, interpolation=\"nearest\")\n",
    "    plt.xticks(())\n",
    "    plt.yticks(())\n",
    "    if i == 1:\n",
    "        plt.title(\"Original data\")\n",
    "    plt.subplot(3, 4, 4 + i + 1)\n",
    "    plt.imshow(images_restored[i], cmap=plt.cm.gray, vmax=16, interpolation=\"nearest\")\n",
    "    if i == 1:\n",
    "        plt.title(\"Agglomerated data\")\n",
    "    plt.xticks(())\n",
    "    plt.yticks(())\n",
    "\n",
    "plt.subplot(3, 4, 10)\n",
    "plt.imshow(\n",
    "    np.reshape(agglo.labels_, images[0].shape),\n",
    "    interpolation=\"nearest\",\n",
    "    cmap=plt.cm.nipy_spectral,\n",
    ")\n",
    "plt.xticks(())\n",
    "plt.yticks(())\n",
    "plt.title(\"Labels\")\n",
    "plt.show()"
   ]
  },
  {
   "cell_type": "markdown",
   "metadata": {},
   "source": [
    "- 이 이미지는 어떻게 비슷한 특징들이 feature agglomeration을 사용하여 하나로 통합되는 지 보여준다."
   ]
  }
 ],
 "metadata": {
  "kernelspec": {
   "display_name": "Python 3",
   "language": "python",
   "name": "python3"
  },
  "language_info": {
   "codemirror_mode": {
    "name": "ipython",
    "version": 3
   },
   "file_extension": ".py",
   "mimetype": "text/x-python",
   "name": "python",
   "nbconvert_exporter": "python",
   "pygments_lexer": "ipython3",
   "version": "3.12.1"
  }
 },
 "nbformat": 4,
 "nbformat_minor": 2
}
