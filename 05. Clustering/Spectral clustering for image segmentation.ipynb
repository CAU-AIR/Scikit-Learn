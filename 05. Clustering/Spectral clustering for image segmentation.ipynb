{
 "cells": [
  {
   "cell_type": "markdown",
   "metadata": {},
   "source": [
    "# Spectral clustering for image segmentation"
   ]
  },
  {
   "cell_type": "markdown",
   "metadata": {},
   "source": [
    "## Generate the data"
   ]
  },
  {
   "cell_type": "code",
   "execution_count": 2,
   "metadata": {},
   "outputs": [],
   "source": [
    "import numpy as np\n",
    "\n",
    "l = 100\n",
    "x, y = np.indices((1, 1))\n",
    "\n",
    "center1 = (28, 24)\n",
    "center2 = (40, 50)\n",
    "center3 = (67, 58)\n",
    "center4 = (24, 70)\n",
    "\n",
    "radius1, radius2, radius3, radius4 = 16, 14, 15, 14\n",
    "\n",
    "circle1 = (x - center1[0]) ** 2 + (y - center1[1]) ** 2 < radius1**2\n",
    "circle2 = (x - center2[0]) ** 2 + (y - center2[1]) ** 2 < radius2**2\n",
    "circle3 = (x - center3[0]) ** 2 + (y - center3[1]) ** 2 < radius3**2\n",
    "circle4 = (x - center4[0]) ** 2 + (y - center4[1]) ** 2 < radius4**2"
   ]
  },
  {
   "cell_type": "markdown",
   "metadata": {},
   "source": [
    "## Plotting four circles"
   ]
  },
  {
   "cell_type": "code",
   "execution_count": 3,
   "metadata": {},
   "outputs": [],
   "source": [
    "img = circle1 + circle2 + circle3 + circle4\n",
    "\n",
    "# 우리는 foreground의 한계를 둘 때만 마스크를 사용합니다.: 우리가 관심을 갖는 문제는 개체를 배경과 분리하는 것이 아니라 개체를 서로 분리하는 것입니다.\n",
    "mask = img.astype(bool)\n",
    "\n",
    "img = img.astype(float)\n",
    "img += 1 + 0.2 * np.random.randn(*img.shape)"
   ]
  },
  {
   "cell_type": "code",
   "execution_count": 1,
   "metadata": {},
   "outputs": [
    {
     "ename": "NameError",
     "evalue": "name 'img' is not defined",
     "output_type": "error",
     "traceback": [
      "\u001b[1;31m---------------------------------------------------------------------------\u001b[0m",
      "\u001b[1;31mNameError\u001b[0m                                 Traceback (most recent call last)",
      "Cell \u001b[1;32mIn[1], line 3\u001b[0m\n\u001b[0;32m      1\u001b[0m \u001b[38;5;28;01mfrom\u001b[39;00m \u001b[38;5;21;01msklearn\u001b[39;00m\u001b[38;5;21;01m.\u001b[39;00m\u001b[38;5;21;01mfeature_extraction\u001b[39;00m \u001b[38;5;28;01mimport\u001b[39;00m image\n\u001b[1;32m----> 3\u001b[0m graph \u001b[38;5;241m=\u001b[39m image\u001b[38;5;241m.\u001b[39mimg_to_graph(\u001b[43mimg\u001b[49m, mask\u001b[38;5;241m=\u001b[39mmask)\n",
      "\u001b[1;31mNameError\u001b[0m: name 'img' is not defined"
     ]
    }
   ],
   "source": [
    "from sklearn.feature_extraction import image\n",
    "\n",
    "graph = image.img_to_graph(img, mask=mask)"
   ]
  },
  {
   "cell_type": "code",
   "execution_count": 5,
   "metadata": {},
   "outputs": [
    {
     "ename": "NameError",
     "evalue": "name 'graph' is not defined",
     "output_type": "error",
     "traceback": [
      "\u001b[1;31m---------------------------------------------------------------------------\u001b[0m",
      "\u001b[1;31mNameError\u001b[0m                                 Traceback (most recent call last)",
      "Cell \u001b[1;32mIn[5], line 1\u001b[0m\n\u001b[1;32m----> 1\u001b[0m graph\u001b[38;5;241m.\u001b[39mdata \u001b[38;5;241m=\u001b[39m np\u001b[38;5;241m.\u001b[39mexp(\u001b[38;5;241m-\u001b[39m\u001b[43mgraph\u001b[49m\u001b[38;5;241m.\u001b[39mdata \u001b[38;5;241m/\u001b[39m graph\u001b[38;5;241m.\u001b[39mdata\u001b[38;5;241m.\u001b[39mstd())\n",
      "\u001b[1;31mNameError\u001b[0m: name 'graph' is not defined"
     ]
    }
   ],
   "source": [
    "graph.data = np.exp(-graph.data / graph.data.std())"
   ]
  }
 ],
 "metadata": {
  "kernelspec": {
   "display_name": "Python 3",
   "language": "python",
   "name": "python3"
  },
  "language_info": {
   "codemirror_mode": {
    "name": "ipython",
    "version": 3
   },
   "file_extension": ".py",
   "mimetype": "text/x-python",
   "name": "python",
   "nbconvert_exporter": "python",
   "pygments_lexer": "ipython3",
   "version": "3.12.1"
  }
 },
 "nbformat": 4,
 "nbformat_minor": 2
}
