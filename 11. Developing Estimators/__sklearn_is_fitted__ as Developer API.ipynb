{
 "cells": [
  {
   "cell_type": "code",
   "execution_count": 1,
   "metadata": {},
   "outputs": [],
   "source": [
    "from sklearn.base import BaseEstimator, ClassifierMixin\n",
    "from sklearn.utils.validation import check_is_fitted\n",
    "\n",
    "\n",
    "class CustomEstimator(BaseEstimator, ClassifierMixin):\n",
    "    def __init__(self, parameter=1):\n",
    "        self.parameter = parameter\n",
    "\n",
    "    def fit(self, X, y):\n",
    "        \"\"\"\n",
    "        Fit the estimator to the training data.\n",
    "        \"\"\"\n",
    "        self.classes_ = sorted(set(y))\n",
    "        self._is_fitted = True\n",
    "        return self\n",
    "\n",
    "    def predict(self, X):\n",
    "        \"\"\"\n",
    "        Perform Predictions\n",
    "\n",
    "        If the estimator is not fitted, then raise NotFittedError\n",
    "        \"\"\"\n",
    "        check_is_fitted(self)\n",
    "        predictions = [self.classes_[0]] * len(X)\n",
    "        return predictions\n",
    "\n",
    "    def score(self, X, y):\n",
    "        \"\"\"\n",
    "        Calculate Score\n",
    "\n",
    "        If the estimator is not fitted, then raise NotFittedError\n",
    "        \"\"\"\n",
    "        check_is_fitted(self)\n",
    "        return 0.5\n",
    "\n",
    "    def __sklearn_is_fitted__(self):\n",
    "        \"\"\"\n",
    "        Check fitted status and return a Boolean value.\n",
    "        \"\"\"\n",
    "        return hasattr(self, \"_is_fitted\") and self._is_fitted"
   ]
  },
  {
   "cell_type": "code",
   "execution_count": null,
   "metadata": {},
   "outputs": [],
   "source": []
  }
 ],
 "metadata": {
  "kernelspec": {
   "display_name": "heart",
   "language": "python",
   "name": "python3"
  },
  "language_info": {
   "codemirror_mode": {
    "name": "ipython",
    "version": 3
   },
   "file_extension": ".py",
   "mimetype": "text/x-python",
   "name": "python",
   "nbconvert_exporter": "python",
   "pygments_lexer": "ipython3",
   "version": "3.8.0"
  }
 },
 "nbformat": 4,
 "nbformat_minor": 2
}
