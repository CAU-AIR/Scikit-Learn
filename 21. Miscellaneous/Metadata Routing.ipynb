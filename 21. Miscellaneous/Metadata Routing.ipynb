{
 "cells": [
  {
   "cell_type": "markdown",
   "metadata": {},
   "source": [
    "# Metadata Routing"
   ]
  },
  {
   "cell_type": "code",
   "execution_count": 4,
   "metadata": {},
   "outputs": [
    {
     "ename": "ImportError",
     "evalue": "cannot import name 'UnsetMetadataPassedError' from 'sklearn.exceptions' (c:\\Users\\gesta\\AppData\\Local\\Programs\\Python\\Python310\\lib\\site-packages\\sklearn\\exceptions.py)",
     "output_type": "error",
     "traceback": [
      "\u001b[1;31m---------------------------------------------------------------------------\u001b[0m",
      "\u001b[1;31mImportError\u001b[0m                               Traceback (most recent call last)",
      "Cell \u001b[1;32mIn [4], line 16\u001b[0m\n\u001b[0;32m      7\u001b[0m \u001b[38;5;28;01mfrom\u001b[39;00m \u001b[38;5;21;01msklearn\u001b[39;00m\u001b[38;5;21;01m.\u001b[39;00m\u001b[38;5;21;01mbase\u001b[39;00m \u001b[38;5;28;01mimport\u001b[39;00m (\n\u001b[0;32m      8\u001b[0m     BaseEstimator,\n\u001b[0;32m      9\u001b[0m     ClassifierMixin,\n\u001b[1;32m   (...)\u001b[0m\n\u001b[0;32m     13\u001b[0m     clone,\n\u001b[0;32m     14\u001b[0m )\n\u001b[0;32m     15\u001b[0m \u001b[38;5;28;01mfrom\u001b[39;00m \u001b[38;5;21;01msklearn\u001b[39;00m\u001b[38;5;21;01m.\u001b[39;00m\u001b[38;5;21;01mlinear_model\u001b[39;00m \u001b[38;5;28;01mimport\u001b[39;00m LinearRegression\n\u001b[1;32m---> 16\u001b[0m \u001b[38;5;28;01mfrom\u001b[39;00m \u001b[38;5;21;01msklearn\u001b[39;00m\u001b[38;5;21;01m.\u001b[39;00m\u001b[38;5;21;01mutils\u001b[39;00m \u001b[38;5;28;01mimport\u001b[39;00m metadata_routing\n\u001b[0;32m     17\u001b[0m \u001b[38;5;28;01mfrom\u001b[39;00m \u001b[38;5;21;01msklearn\u001b[39;00m\u001b[38;5;21;01m.\u001b[39;00m\u001b[38;5;21;01mutils\u001b[39;00m\u001b[38;5;21;01m.\u001b[39;00m\u001b[38;5;21;01mmetadata_routing\u001b[39;00m \u001b[38;5;28;01mimport\u001b[39;00m (\n\u001b[0;32m     18\u001b[0m     MetadataRouter,\n\u001b[0;32m     19\u001b[0m     MethodMapping,\n\u001b[0;32m     20\u001b[0m     get_routing_for_object,\n\u001b[0;32m     21\u001b[0m     process_routing,\n\u001b[0;32m     22\u001b[0m )\n\u001b[0;32m     23\u001b[0m \u001b[38;5;28;01mfrom\u001b[39;00m \u001b[38;5;21;01msklearn\u001b[39;00m\u001b[38;5;21;01m.\u001b[39;00m\u001b[38;5;21;01mutils\u001b[39;00m\u001b[38;5;21;01m.\u001b[39;00m\u001b[38;5;21;01mvalidation\u001b[39;00m \u001b[38;5;28;01mimport\u001b[39;00m check_is_fitted\n",
      "File \u001b[1;32mc:\\Users\\gesta\\AppData\\Local\\Programs\\Python\\Python310\\lib\\site-packages\\sklearn\\utils\\metadata_routing.py:12\u001b[0m\n\u001b[0;32m      1\u001b[0m \u001b[38;5;124;03m\"\"\"\u001b[39;00m\n\u001b[0;32m      2\u001b[0m \u001b[38;5;124;03mThe :mod:`sklearn.utils.metadata_routing` module includes utilities to route\u001b[39;00m\n\u001b[0;32m      3\u001b[0m \u001b[38;5;124;03mmetadata within scikit-learn estimators.\u001b[39;00m\n\u001b[0;32m      4\u001b[0m \u001b[38;5;124;03m\"\"\"\u001b[39;00m\n\u001b[0;32m      6\u001b[0m \u001b[38;5;66;03m# This module is not a separate sub-folder since that would result in a circular\u001b[39;00m\n\u001b[0;32m      7\u001b[0m \u001b[38;5;66;03m# import issue.\u001b[39;00m\n\u001b[0;32m      8\u001b[0m \u001b[38;5;66;03m#\u001b[39;00m\n\u001b[0;32m      9\u001b[0m \u001b[38;5;66;03m# Author: Adrin Jalali <adrin.jalali@gmail.com>\u001b[39;00m\n\u001b[0;32m     10\u001b[0m \u001b[38;5;66;03m# License: BSD 3 clause\u001b[39;00m\n\u001b[1;32m---> 12\u001b[0m \u001b[38;5;28;01mfrom\u001b[39;00m \u001b[38;5;21;01m.\u001b[39;00m\u001b[38;5;21;01m_metadata_requests\u001b[39;00m \u001b[38;5;28;01mimport\u001b[39;00m WARN, UNUSED, UNCHANGED  \u001b[38;5;66;03m# noqa\u001b[39;00m\n\u001b[0;32m     13\u001b[0m \u001b[38;5;28;01mfrom\u001b[39;00m \u001b[38;5;21;01m.\u001b[39;00m\u001b[38;5;21;01m_metadata_requests\u001b[39;00m \u001b[38;5;28;01mimport\u001b[39;00m get_routing_for_object  \u001b[38;5;66;03m# noqa\u001b[39;00m\n\u001b[0;32m     14\u001b[0m \u001b[38;5;28;01mfrom\u001b[39;00m \u001b[38;5;21;01m.\u001b[39;00m\u001b[38;5;21;01m_metadata_requests\u001b[39;00m \u001b[38;5;28;01mimport\u001b[39;00m MetadataRouter  \u001b[38;5;66;03m# noqa\u001b[39;00m\n",
      "File \u001b[1;32mc:\\Users\\gesta\\AppData\\Local\\Programs\\Python\\Python310\\lib\\site-packages\\sklearn\\utils\\_metadata_requests.py:87\u001b[0m\n\u001b[0;32m     84\u001b[0m \u001b[38;5;28;01mfrom\u001b[39;00m \u001b[38;5;21;01mwarnings\u001b[39;00m \u001b[38;5;28;01mimport\u001b[39;00m warn\n\u001b[0;32m     86\u001b[0m \u001b[38;5;28;01mfrom\u001b[39;00m \u001b[38;5;21;01m.\u001b[39;00m\u001b[38;5;21;01m.\u001b[39;00m \u001b[38;5;28;01mimport\u001b[39;00m get_config\n\u001b[1;32m---> 87\u001b[0m \u001b[38;5;28;01mfrom\u001b[39;00m \u001b[38;5;21;01m.\u001b[39;00m\u001b[38;5;21;01m.\u001b[39;00m\u001b[38;5;21;01mexceptions\u001b[39;00m \u001b[38;5;28;01mimport\u001b[39;00m UnsetMetadataPassedError\n\u001b[0;32m     88\u001b[0m \u001b[38;5;28;01mfrom\u001b[39;00m \u001b[38;5;21;01m.\u001b[39;00m\u001b[38;5;21;01m_bunch\u001b[39;00m \u001b[38;5;28;01mimport\u001b[39;00m Bunch\n\u001b[0;32m     90\u001b[0m \u001b[38;5;66;03m# Only the following methods are supported in the routing mechanism. Adding new\u001b[39;00m\n\u001b[0;32m     91\u001b[0m \u001b[38;5;66;03m# methods at the moment involves monkeypatching this list.\u001b[39;00m\n\u001b[0;32m     92\u001b[0m \u001b[38;5;66;03m# Note that if this list is changed or monkeypatched, the corresponding method\u001b[39;00m\n\u001b[0;32m     93\u001b[0m \u001b[38;5;66;03m# needs to be added under a TYPE_CHECKING condition like the one done here in\u001b[39;00m\n\u001b[0;32m     94\u001b[0m \u001b[38;5;66;03m# _MetadataRequester\u001b[39;00m\n",
      "\u001b[1;31mImportError\u001b[0m: cannot import name 'UnsetMetadataPassedError' from 'sklearn.exceptions' (c:\\Users\\gesta\\AppData\\Local\\Programs\\Python\\Python310\\lib\\site-packages\\sklearn\\exceptions.py)"
     ]
    }
   ],
   "source": [
    "import warnings\n",
    "from pprint import pprint\n",
    "\n",
    "import numpy as np\n",
    "\n",
    "from sklearn import set_config\n",
    "from sklearn.base import (\n",
    "    BaseEstimator,\n",
    "    ClassifierMixin,\n",
    "    MetaEstimatorMixin,\n",
    "    RegressorMixin,\n",
    "    TransformerMixin,\n",
    "    clone,\n",
    ")\n",
    "from sklearn.linear_model import LinearRegression\n",
    "from sklearn.utils import metadata_routing\n",
    "from sklearn.utils.metadata_routing import (\n",
    "    MetadataRouter,\n",
    "    MethodMapping,\n",
    "    get_routing_for_object,\n",
    "    process_routing,\n",
    ")\n",
    "from sklearn.utils.validation import check_is_fitted\n",
    "\n",
    "n_samples, n_features = 100, 4\n",
    "rng = np.random.RandomState(42)\n",
    "X = rng.rand(n_samples, n_features)\n",
    "y = rng.randint(0, 2, size=n_samples)\n",
    "my_groups = rng.randint(0, 10, size=n_samples)\n",
    "my_weights = rng.rand(n_samples)\n",
    "my_other_weights = rng.rand(n_samples)"
   ]
  },
  {
   "cell_type": "code",
   "execution_count": null,
   "metadata": {},
   "outputs": [],
   "source": []
  }
 ],
 "metadata": {
  "kernelspec": {
   "display_name": "Python 3",
   "language": "python",
   "name": "python3"
  },
  "language_info": {
   "codemirror_mode": {
    "name": "ipython",
    "version": 3
   },
   "file_extension": ".py",
   "mimetype": "text/x-python",
   "name": "python",
   "nbconvert_exporter": "python",
   "pygments_lexer": "ipython3",
   "version": "3.10.7"
  }
 },
 "nbformat": 4,
 "nbformat_minor": 2
}
