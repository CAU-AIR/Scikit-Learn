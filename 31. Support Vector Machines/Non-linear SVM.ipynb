{
 "cells": [
  {
   "cell_type": "code",
   "execution_count": null,
   "metadata": {},
   "outputs": [],
   "source": [
    "import matplotlib.pyplot as plt\n",
    "import numpy as np\n",
    "\n",
    "from sklearn import svm\n",
    "\n",
    "xx, yy = np.meshgrid(np.linspace(-3, 3, 500), np.linspace(-3, 3, 500))\n",
    "np.random.seed(0)\n",
    "X = np.random.randn(300, 2)\n",
    "Y = np.logical_xor(X[:, 0] > 0, X[:, 1] > 0)\n",
    "\n",
    "# fit the model\n",
    "clf = svm.NuSVC(gamma=\"auto\")\n",
    "clf.fit(X, Y)\n",
    "\n",
    "# plot the decision function for each datapoint on the grid\n",
    "Z = clf.decision_function(np.c_[xx.ravel(), yy.ravel()])\n",
    "Z = Z.reshape(xx.shape)\n",
    "\n",
    "plt.imshow(\n",
    "    Z,\n",
    "    interpolation=\"nearest\",\n",
    "    extent=(xx.min(), xx.max(), yy.min(), yy.max()),\n",
    "    aspect=\"auto\",\n",
    "    origin=\"lower\",\n",
    "    cmap=plt.cm.PuOr_r,\n",
    ")\n",
    "contours = plt.contour(xx, yy, Z, levels=[0], linewidths=2, linestyles=\"dashed\")\n",
    "plt.scatter(X[:, 0], X[:, 1], s=30, c=Y, cmap=plt.cm.Paired, edgecolors=\"k\")\n",
    "plt.xticks(())\n",
    "plt.yticks(())\n",
    "plt.axis([-3, 3, -3, 3])\n",
    "plt.show()"
   ]
  }
 ],
 "metadata": {
  "language_info": {
   "name": "python"
  }
 },
 "nbformat": 4,
 "nbformat_minor": 2
}
