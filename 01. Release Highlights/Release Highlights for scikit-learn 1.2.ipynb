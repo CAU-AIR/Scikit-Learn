{
 "cells": [
  {
   "cell_type": "code",
   "execution_count": 6,
   "metadata": {},
   "outputs": [],
   "source": [
    "import numpy as np\n",
    "from sklearn.datasets import load_iris\n",
    "from sklearn.preprocessing import StandardScaler, KBinsDiscretizer\n",
    "from sklearn.compose import ColumnTransformer\n",
    "\n",
    "from sklearn.datasets import load_diabetes\n",
    "from sklearn.ensemble import HistGradientBoostingRegressor"
   ]
  },
  {
   "cell_type": "code",
   "execution_count": 8,
   "metadata": {},
   "outputs": [
    {
     "ename": "AttributeError",
     "evalue": "'ColumnTransformer' object has no attribute 'set_output'",
     "output_type": "error",
     "traceback": [
      "\u001b[0;31m---------------------------------------------------------------------------\u001b[0m",
      "\u001b[0;31mAttributeError\u001b[0m                            Traceback (most recent call last)",
      "\u001b[1;32m/Users/imhyejeong/Desktop/AILAB/Scikit-Learn/01. Release Highlights/Release Highlights for scikit-learn 1.2.ipynb 셀 2\u001b[0m in \u001b[0;36m<cell line: 8>\u001b[0;34m()\u001b[0m\n\u001b[1;32m      <a href='vscode-notebook-cell:/Users/imhyejeong/Desktop/AILAB/Scikit-Learn/01.%20Release%20Highlights/Release%20Highlights%20for%20scikit-learn%201.2.ipynb#W1sZmlsZQ%3D%3D?line=4'>5</a>\u001b[0m sepal_cols \u001b[39m=\u001b[39m [\u001b[39m\"\u001b[39m\u001b[39msepal length (cm)\u001b[39m\u001b[39m\"\u001b[39m, \u001b[39m\"\u001b[39m\u001b[39msepal width (cm)\u001b[39m\u001b[39m\"\u001b[39m]\n\u001b[1;32m      <a href='vscode-notebook-cell:/Users/imhyejeong/Desktop/AILAB/Scikit-Learn/01.%20Release%20Highlights/Release%20Highlights%20for%20scikit-learn%201.2.ipynb#W1sZmlsZQ%3D%3D?line=5'>6</a>\u001b[0m petal_cols \u001b[39m=\u001b[39m [\u001b[39m\"\u001b[39m\u001b[39mpetal length (cm)\u001b[39m\u001b[39m\"\u001b[39m, \u001b[39m\"\u001b[39m\u001b[39mpetal width (cm)\u001b[39m\u001b[39m\"\u001b[39m]\n\u001b[0;32m----> <a href='vscode-notebook-cell:/Users/imhyejeong/Desktop/AILAB/Scikit-Learn/01.%20Release%20Highlights/Release%20Highlights%20for%20scikit-learn%201.2.ipynb#W1sZmlsZQ%3D%3D?line=7'>8</a>\u001b[0m preprocessor \u001b[39m=\u001b[39m ColumnTransformer(\n\u001b[1;32m      <a href='vscode-notebook-cell:/Users/imhyejeong/Desktop/AILAB/Scikit-Learn/01.%20Release%20Highlights/Release%20Highlights%20for%20scikit-learn%201.2.ipynb#W1sZmlsZQ%3D%3D?line=8'>9</a>\u001b[0m     [\n\u001b[1;32m     <a href='vscode-notebook-cell:/Users/imhyejeong/Desktop/AILAB/Scikit-Learn/01.%20Release%20Highlights/Release%20Highlights%20for%20scikit-learn%201.2.ipynb#W1sZmlsZQ%3D%3D?line=9'>10</a>\u001b[0m         (\u001b[39m\"\u001b[39;49m\u001b[39mscaler\u001b[39;49m\u001b[39m\"\u001b[39;49m, StandardScaler(), sepal_cols),\n\u001b[1;32m     <a href='vscode-notebook-cell:/Users/imhyejeong/Desktop/AILAB/Scikit-Learn/01.%20Release%20Highlights/Release%20Highlights%20for%20scikit-learn%201.2.ipynb#W1sZmlsZQ%3D%3D?line=10'>11</a>\u001b[0m         (\u001b[39m\"\u001b[39;49m\u001b[39mkbin\u001b[39;49m\u001b[39m\"\u001b[39;49m, KBinsDiscretizer(encode\u001b[39m=\u001b[39;49m\u001b[39m\"\u001b[39;49m\u001b[39mordinal\u001b[39;49m\u001b[39m\"\u001b[39;49m), petal_cols),\n\u001b[1;32m     <a href='vscode-notebook-cell:/Users/imhyejeong/Desktop/AILAB/Scikit-Learn/01.%20Release%20Highlights/Release%20Highlights%20for%20scikit-learn%201.2.ipynb#W1sZmlsZQ%3D%3D?line=11'>12</a>\u001b[0m     ],\n\u001b[1;32m     <a href='vscode-notebook-cell:/Users/imhyejeong/Desktop/AILAB/Scikit-Learn/01.%20Release%20Highlights/Release%20Highlights%20for%20scikit-learn%201.2.ipynb#W1sZmlsZQ%3D%3D?line=12'>13</a>\u001b[0m     verbose_feature_names_out\u001b[39m=\u001b[39;49m\u001b[39mFalse\u001b[39;49;00m,\n\u001b[1;32m     <a href='vscode-notebook-cell:/Users/imhyejeong/Desktop/AILAB/Scikit-Learn/01.%20Release%20Highlights/Release%20Highlights%20for%20scikit-learn%201.2.ipynb#W1sZmlsZQ%3D%3D?line=13'>14</a>\u001b[0m )\u001b[39m.\u001b[39;49mset_output(transform\u001b[39m=\u001b[39m\u001b[39m\"\u001b[39m\u001b[39mpandas\u001b[39m\u001b[39m\"\u001b[39m)\n\u001b[1;32m     <a href='vscode-notebook-cell:/Users/imhyejeong/Desktop/AILAB/Scikit-Learn/01.%20Release%20Highlights/Release%20Highlights%20for%20scikit-learn%201.2.ipynb#W1sZmlsZQ%3D%3D?line=15'>16</a>\u001b[0m X_out \u001b[39m=\u001b[39m preprocessor\u001b[39m.\u001b[39mfit_transform(X)\n\u001b[1;32m     <a href='vscode-notebook-cell:/Users/imhyejeong/Desktop/AILAB/Scikit-Learn/01.%20Release%20Highlights/Release%20Highlights%20for%20scikit-learn%201.2.ipynb#W1sZmlsZQ%3D%3D?line=16'>17</a>\u001b[0m X_out\u001b[39m.\u001b[39msample(n\u001b[39m=\u001b[39m\u001b[39m5\u001b[39m, random_state\u001b[39m=\u001b[39m\u001b[39m0\u001b[39m)\n",
      "\u001b[0;31mAttributeError\u001b[0m: 'ColumnTransformer' object has no attribute 'set_output'"
     ]
    }
   ],
   "source": [
    "X, y = load_iris(as_frame=True, return_X_y=True)\n",
    "sepal_cols = [\"sepal length (cm)\", \"sepal width (cm)\"]\n",
    "petal_cols = [\"petal length (cm)\", \"petal width (cm)\"]\n",
    "\n",
    "preprocessor = ColumnTransformer(\n",
    "    [\n",
    "        (\"scaler\", StandardScaler(), sepal_cols),\n",
    "        (\"kbin\", KBinsDiscretizer(encode=\"ordinal\"), petal_cols),\n",
    "    ],\n",
    "    verbose_feature_names_out=False,\n",
    ").set_output(transform=\"pandas\")\n",
    "\n",
    "X_out = preprocessor.fit_transform(X)\n",
    "X_out.sample(n=5, random_state=0)"
   ]
  },
  {
   "cell_type": "code",
   "execution_count": null,
   "metadata": {},
   "outputs": [],
   "source": []
  }
 ],
 "metadata": {
  "kernelspec": {
   "display_name": "heart",
   "language": "python",
   "name": "python3"
  },
  "language_info": {
   "codemirror_mode": {
    "name": "ipython",
    "version": 3
   },
   "file_extension": ".py",
   "mimetype": "text/x-python",
   "name": "python",
   "nbconvert_exporter": "python",
   "pygments_lexer": "ipython3",
   "version": "3.8.0"
  },
  "orig_nbformat": 4
 },
 "nbformat": 4,
 "nbformat_minor": 2
}
