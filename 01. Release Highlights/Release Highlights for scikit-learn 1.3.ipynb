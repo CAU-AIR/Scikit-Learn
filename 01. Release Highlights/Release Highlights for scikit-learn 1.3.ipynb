{
 "cells": [
  {
   "cell_type": "code",
   "execution_count": 8,
   "metadata": {},
   "outputs": [
    {
     "name": "stdout",
     "output_type": "stream",
     "text": [
      "Requirement already satisfied: hdbscan in /Users/imhyejeong/opt/anaconda3/envs/heart/lib/python3.8/site-packages (0.8.33)\n",
      "Requirement already satisfied: cython<3,>=0.27 in /Users/imhyejeong/opt/anaconda3/envs/heart/lib/python3.8/site-packages (from hdbscan) (0.29.37)\n",
      "Requirement already satisfied: scikit-learn>=0.20 in /Users/imhyejeong/opt/anaconda3/envs/heart/lib/python3.8/site-packages (from hdbscan) (1.3.2)\n",
      "Requirement already satisfied: numpy>=1.20 in /Users/imhyejeong/opt/anaconda3/envs/heart/lib/python3.8/site-packages (from hdbscan) (1.23.2)\n",
      "Requirement already satisfied: joblib>=1.0 in /Users/imhyejeong/opt/anaconda3/envs/heart/lib/python3.8/site-packages (from hdbscan) (1.3.2)\n",
      "Requirement already satisfied: scipy>=1.0 in /Users/imhyejeong/opt/anaconda3/envs/heart/lib/python3.8/site-packages (from hdbscan) (1.9.1)\n",
      "Requirement already satisfied: threadpoolctl>=2.0.0 in /Users/imhyejeong/opt/anaconda3/envs/heart/lib/python3.8/site-packages (from scikit-learn>=0.20->hdbscan) (3.1.0)\n"
     ]
    }
   ],
   "source": [
    "!pip install hdbscan"
   ]
  },
  {
   "cell_type": "code",
   "execution_count": 9,
   "metadata": {},
   "outputs": [
    {
     "ename": "ImportError",
     "evalue": "cannot import name 'HDBSCAN' from 'sklearn.cluster' (/Users/imhyejeong/opt/anaconda3/envs/heart/lib/python3.8/site-packages/sklearn/cluster/__init__.py)",
     "output_type": "error",
     "traceback": [
      "\u001b[0;31m---------------------------------------------------------------------------\u001b[0m",
      "\u001b[0;31mImportError\u001b[0m                               Traceback (most recent call last)",
      "\u001b[1;32m/Users/imhyejeong/Desktop/AILAB/Scikit-Learn/01. Release Highlights/Release Highlights for scikit-learn 1.3.ipynb 셀 2\u001b[0m in \u001b[0;36m<cell line: 2>\u001b[0;34m()\u001b[0m\n\u001b[1;32m      <a href='vscode-notebook-cell:/Users/imhyejeong/Desktop/AILAB/Scikit-Learn/01.%20Release%20Highlights/Release%20Highlights%20for%20scikit-learn%201.3.ipynb#W0sZmlsZQ%3D%3D?line=0'>1</a>\u001b[0m \u001b[39mimport\u001b[39;00m \u001b[39mnumpy\u001b[39;00m \u001b[39mas\u001b[39;00m \u001b[39mnp\u001b[39;00m\n\u001b[0;32m----> <a href='vscode-notebook-cell:/Users/imhyejeong/Desktop/AILAB/Scikit-Learn/01.%20Release%20Highlights/Release%20Highlights%20for%20scikit-learn%201.3.ipynb#W0sZmlsZQ%3D%3D?line=1'>2</a>\u001b[0m \u001b[39mfrom\u001b[39;00m \u001b[39msklearn\u001b[39;00m\u001b[39m.\u001b[39;00m\u001b[39mcluster\u001b[39;00m \u001b[39mimport\u001b[39;00m HDBSCAN\n\u001b[1;32m      <a href='vscode-notebook-cell:/Users/imhyejeong/Desktop/AILAB/Scikit-Learn/01.%20Release%20Highlights/Release%20Highlights%20for%20scikit-learn%201.3.ipynb#W0sZmlsZQ%3D%3D?line=2'>3</a>\u001b[0m \u001b[39mfrom\u001b[39;00m \u001b[39msklearn\u001b[39;00m\u001b[39m.\u001b[39;00m\u001b[39mdatasets\u001b[39;00m \u001b[39mimport\u001b[39;00m load_digits\n\u001b[1;32m      <a href='vscode-notebook-cell:/Users/imhyejeong/Desktop/AILAB/Scikit-Learn/01.%20Release%20Highlights/Release%20Highlights%20for%20scikit-learn%201.3.ipynb#W0sZmlsZQ%3D%3D?line=3'>4</a>\u001b[0m \u001b[39mfrom\u001b[39;00m \u001b[39msklearn\u001b[39;00m\u001b[39m.\u001b[39;00m\u001b[39mmetrics\u001b[39;00m \u001b[39mimport\u001b[39;00m v_measure_score\n",
      "\u001b[0;31mImportError\u001b[0m: cannot import name 'HDBSCAN' from 'sklearn.cluster' (/Users/imhyejeong/opt/anaconda3/envs/heart/lib/python3.8/site-packages/sklearn/cluster/__init__.py)"
     ]
    }
   ],
   "source": [
    "import numpy as np\n",
    "from sklearn.cluster import HDBSCAN\n",
    "from sklearn.datasets import load_digits\n",
    "from sklearn.metrics import v_measure_score"
   ]
  },
  {
   "cell_type": "code",
   "execution_count": 10,
   "metadata": {},
   "outputs": [
    {
     "ename": "NameError",
     "evalue": "name 'load_digits' is not defined",
     "output_type": "error",
     "traceback": [
      "\u001b[0;31m---------------------------------------------------------------------------\u001b[0m",
      "\u001b[0;31mNameError\u001b[0m                                 Traceback (most recent call last)",
      "\u001b[1;32m/Users/imhyejeong/Desktop/AILAB/Scikit-Learn/01. Release Highlights/Release Highlights for scikit-learn 1.3.ipynb 셀 3\u001b[0m in \u001b[0;36m<cell line: 1>\u001b[0;34m()\u001b[0m\n\u001b[0;32m----> <a href='vscode-notebook-cell:/Users/imhyejeong/Desktop/AILAB/Scikit-Learn/01.%20Release%20Highlights/Release%20Highlights%20for%20scikit-learn%201.3.ipynb#W1sZmlsZQ%3D%3D?line=0'>1</a>\u001b[0m X, true_labels \u001b[39m=\u001b[39m load_digits(return_X_y\u001b[39m=\u001b[39m\u001b[39mTrue\u001b[39;00m)\n\u001b[1;32m      <a href='vscode-notebook-cell:/Users/imhyejeong/Desktop/AILAB/Scikit-Learn/01.%20Release%20Highlights/Release%20Highlights%20for%20scikit-learn%201.3.ipynb#W1sZmlsZQ%3D%3D?line=1'>2</a>\u001b[0m \u001b[39mprint\u001b[39m(\u001b[39mf\u001b[39m\u001b[39m\"\u001b[39m\u001b[39mnumber of digits: \u001b[39m\u001b[39m{\u001b[39;00m\u001b[39mlen\u001b[39m(np\u001b[39m.\u001b[39munique(true_labels))\u001b[39m}\u001b[39;00m\u001b[39m\"\u001b[39m)\n\u001b[1;32m      <a href='vscode-notebook-cell:/Users/imhyejeong/Desktop/AILAB/Scikit-Learn/01.%20Release%20Highlights/Release%20Highlights%20for%20scikit-learn%201.3.ipynb#W1sZmlsZQ%3D%3D?line=3'>4</a>\u001b[0m hdbscan \u001b[39m=\u001b[39m HDBSCAN(min_cluster_size\u001b[39m=\u001b[39m\u001b[39m15\u001b[39m)\u001b[39m.\u001b[39mfit(X)\n",
      "\u001b[0;31mNameError\u001b[0m: name 'load_digits' is not defined"
     ]
    }
   ],
   "source": [
    "X, true_labels = load_digits(return_X_y=True)\n",
    "print(f\"number of digits: {len(np.unique(true_labels))}\")\n",
    "\n",
    "hdbscan = HDBSCAN(min_cluster_size=15).fit(X)\n",
    "non_noisy_labels = hdbscan.labels_[hdbscan.labels_ != -1]\n",
    "print(f\"number of clusters found: {len(np.unique(non_noisy_labels))}\")\n",
    "\n",
    "print(v_measure_score(true_labels[hdbscan.labels_ != -1], non_noisy_labels))"
   ]
  },
  {
   "cell_type": "code",
   "execution_count": null,
   "metadata": {},
   "outputs": [],
   "source": []
  }
 ],
 "metadata": {
  "kernelspec": {
   "display_name": "heart",
   "language": "python",
   "name": "python3"
  },
  "language_info": {
   "codemirror_mode": {
    "name": "ipython",
    "version": 3
   },
   "file_extension": ".py",
   "mimetype": "text/x-python",
   "name": "python",
   "nbconvert_exporter": "python",
   "pygments_lexer": "ipython3",
   "version": "3.8.0"
  },
  "orig_nbformat": 4
 },
 "nbformat": 4,
 "nbformat_minor": 2
}
